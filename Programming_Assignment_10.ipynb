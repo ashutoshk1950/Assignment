{
 "cells": [
  {
   "cell_type": "markdown",
   "id": "f7591dc4",
   "metadata": {},
   "source": [
    "#### 1. Write a Python program to find sum of elements in list?"
   ]
  },
  {
   "cell_type": "code",
   "execution_count": 1,
   "id": "a0c5e99e",
   "metadata": {},
   "outputs": [
    {
     "data": {
      "text/plain": [
       "15"
      ]
     },
     "execution_count": 1,
     "metadata": {},
     "output_type": "execute_result"
    }
   ],
   "source": [
    "def list_sum(ls):\n",
    "    sum = 0\n",
    "    for i in ls:\n",
    "        sum += i\n",
    "    return sum\n",
    "\n",
    "list_sum([1,2,3,4,5])"
   ]
  },
  {
   "cell_type": "markdown",
   "id": "e2d40469",
   "metadata": {},
   "source": [
    "#### 2. Write a Python program to Multiply all numbers in the list?"
   ]
  },
  {
   "cell_type": "code",
   "execution_count": 2,
   "id": "164fafc6",
   "metadata": {},
   "outputs": [
    {
     "data": {
      "text/plain": [
       "120"
      ]
     },
     "execution_count": 2,
     "metadata": {},
     "output_type": "execute_result"
    }
   ],
   "source": [
    "def list_mul(ls):\n",
    "    mul = 1\n",
    "    for i in ls:\n",
    "        mul *= i\n",
    "    return mul\n",
    "\n",
    "list_mul([1,2,3,4,5])"
   ]
  },
  {
   "cell_type": "markdown",
   "id": "14ec0fa9",
   "metadata": {},
   "source": [
    "#### 3. Write a Python program to find smallest number in a list?"
   ]
  },
  {
   "cell_type": "code",
   "execution_count": 6,
   "id": "06af58b4",
   "metadata": {},
   "outputs": [
    {
     "data": {
      "text/plain": [
       "0"
      ]
     },
     "execution_count": 6,
     "metadata": {},
     "output_type": "execute_result"
    }
   ],
   "source": [
    "def smallest_num(ls):\n",
    "    smallest = ls[0]\n",
    "    for i in ls:\n",
    "        if smallest > i:\n",
    "            smallest = i\n",
    "    return smallest\n",
    "\n",
    "smallest_num([10,2,1,0,6,4,3,23,45,7,6,4,2,5,12])"
   ]
  },
  {
   "cell_type": "markdown",
   "id": "3877394c",
   "metadata": {},
   "source": [
    "#### 4. Write a Python program to find largest number in a list?"
   ]
  },
  {
   "cell_type": "code",
   "execution_count": 8,
   "id": "ae54e2a3",
   "metadata": {},
   "outputs": [
    {
     "data": {
      "text/plain": [
       "45"
      ]
     },
     "execution_count": 8,
     "metadata": {},
     "output_type": "execute_result"
    }
   ],
   "source": [
    "def largest_num(ls):\n",
    "    largest = ls[0]\n",
    "    for i in ls:\n",
    "        if largest < i:\n",
    "            largest = i\n",
    "    return largest\n",
    "\n",
    "largest_num([10,2,1,0,6,4,3,23,45,7,6,4,2,5,12])"
   ]
  },
  {
   "cell_type": "markdown",
   "id": "3252d2da",
   "metadata": {},
   "source": [
    "#### 5. Write a Python program to find second largest number in a list?"
   ]
  },
  {
   "cell_type": "code",
   "execution_count": 79,
   "id": "9907a2cb",
   "metadata": {},
   "outputs": [
    {
     "data": {
      "text/plain": [
       "23"
      ]
     },
     "execution_count": 79,
     "metadata": {},
     "output_type": "execute_result"
    }
   ],
   "source": [
    "def second_largest_num(ls):\n",
    "    for j in range(len(ls)):\n",
    "        largest = ls[j]\n",
    "        for i in ls[j:]:\n",
    "            if largest < i:\n",
    "                largest = i\n",
    "                tmp = ls.index(largest)\n",
    "        ls[j],ls[tmp] = ls[tmp],ls[j]\n",
    "    return ls[1]\n",
    "\n",
    "second_largest_num([10,2,1,0,6,4,3,23,45,7,6,4,2,5,12])"
   ]
  },
  {
   "cell_type": "markdown",
   "id": "33594399",
   "metadata": {},
   "source": [
    "#### 6. Write a Python program to find N largest elements from a list?"
   ]
  },
  {
   "cell_type": "code",
   "execution_count": 82,
   "id": "303e5916",
   "metadata": {},
   "outputs": [
    {
     "data": {
      "text/plain": [
       "7"
      ]
     },
     "execution_count": 82,
     "metadata": {},
     "output_type": "execute_result"
    }
   ],
   "source": [
    "def N_largest_num(ls,N):\n",
    "    for j in range(len(ls)):\n",
    "        largest = ls[j]\n",
    "        for i in ls[j:]:\n",
    "            if largest < i:\n",
    "                largest = i\n",
    "                tmp = ls.index(largest)\n",
    "        ls[j],ls[tmp] = ls[tmp],ls[j]\n",
    "    return ls[N-1]\n",
    "\n",
    "N_largest_num([10,2,1,0,6,4,3,23,45,7,6,4,2,5,12],5)"
   ]
  },
  {
   "cell_type": "markdown",
   "id": "afb363e9",
   "metadata": {},
   "source": [
    "#### 7. Write a Python program to print even numbers in a list?"
   ]
  },
  {
   "cell_type": "code",
   "execution_count": 83,
   "id": "4cbdc0b3",
   "metadata": {},
   "outputs": [
    {
     "name": "stdout",
     "output_type": "stream",
     "text": [
      "10\n",
      "2\n",
      "0\n",
      "6\n",
      "4\n",
      "6\n",
      "4\n",
      "2\n",
      "12\n"
     ]
    }
   ],
   "source": [
    "def even_num(ls):\n",
    "    for i in ls:\n",
    "        if i % 2 == 0:\n",
    "            print(i)\n",
    "            \n",
    "even_num([10,2,1,0,6,4,3,23,45,7,6,4,2,5,12])"
   ]
  },
  {
   "cell_type": "markdown",
   "id": "b9759abf",
   "metadata": {},
   "source": [
    "#### 8. Write a Python program to print odd numbers in a List?"
   ]
  },
  {
   "cell_type": "code",
   "execution_count": 84,
   "id": "e0226a77",
   "metadata": {},
   "outputs": [
    {
     "name": "stdout",
     "output_type": "stream",
     "text": [
      "1\n",
      "3\n",
      "23\n",
      "45\n",
      "7\n",
      "5\n"
     ]
    }
   ],
   "source": [
    "def odd_num(ls):\n",
    "    for i in ls:\n",
    "        if i % 2 != 0:\n",
    "            print(i)\n",
    "            \n",
    "odd_num([10,2,1,0,6,4,3,23,45,7,6,4,2,5,12])"
   ]
  },
  {
   "cell_type": "markdown",
   "id": "af7b69c0",
   "metadata": {},
   "source": [
    "#### 9. Write a Python program to Remove empty List from List?"
   ]
  },
  {
   "cell_type": "code",
   "execution_count": 88,
   "id": "e0af05a7",
   "metadata": {},
   "outputs": [
    {
     "data": {
      "text/plain": [
       "[10, 2, 1, 0, 6, 4, 3, 23, 45, 7, 6, 4, 2, 5, 12]"
      ]
     },
     "execution_count": 88,
     "metadata": {},
     "output_type": "execute_result"
    }
   ],
   "source": [
    "def remove_empty_list(ls):\n",
    "    return [i for i in ls if i != []]\n",
    "\n",
    "remove_empty_list([10,2,1,[],0,6,4,3,23,45,[],[],7,6,4,2,5,12])"
   ]
  },
  {
   "cell_type": "markdown",
   "id": "3f265e5c",
   "metadata": {},
   "source": [
    "#### 10. Write a Python program to Cloning or Copying a list?"
   ]
  },
  {
   "cell_type": "code",
   "execution_count": 89,
   "id": "6417d1ae",
   "metadata": {},
   "outputs": [
    {
     "data": {
      "text/plain": [
       "[10, 2, 1, 0, 6, 4, 3, 23, 45, 7, 6, 4, 2, 5, 12]"
      ]
     },
     "execution_count": 89,
     "metadata": {},
     "output_type": "execute_result"
    }
   ],
   "source": [
    "def clone_list(ls):\n",
    "    ls1 = [i for i in ls]\n",
    "    return ls1\n",
    "\n",
    "clone_list([10,2,1,0,6,4,3,23,45,7,6,4,2,5,12])"
   ]
  },
  {
   "cell_type": "markdown",
   "id": "39b13709",
   "metadata": {},
   "source": [
    "#### 11. Write a Python program to Count occurrences of an element in a list?"
   ]
  },
  {
   "cell_type": "code",
   "execution_count": 100,
   "id": "01118e8f",
   "metadata": {},
   "outputs": [
    {
     "data": {
      "text/plain": [
       "{10: 1, 2: 2, 1: 1, 0: 3, 6: 4, 4: 4, 3: 1, 23: 1, 45: 1, 7: 1, 5: 1, 12: 1}"
      ]
     },
     "execution_count": 100,
     "metadata": {},
     "output_type": "execute_result"
    }
   ],
   "source": [
    "def occurances(ls):\n",
    "    dicto={}\n",
    "    j = 1\n",
    "    for i in ls:\n",
    "        for k in range(len(ls)):\n",
    "            if i == ls[k]:\n",
    "                dicto[i] = j\n",
    "                j += 1\n",
    "        j = 1\n",
    "    return dicto\n",
    "\n",
    "occurances([10,2,1,0,0,0,6,6,4,4,6,4,3,23,45,7,6,4,2,5,12])"
   ]
  }
 ],
 "metadata": {
  "kernelspec": {
   "display_name": "Python 3",
   "language": "python",
   "name": "python3"
  },
  "language_info": {
   "codemirror_mode": {
    "name": "ipython",
    "version": 3
   },
   "file_extension": ".py",
   "mimetype": "text/x-python",
   "name": "python",
   "nbconvert_exporter": "python",
   "pygments_lexer": "ipython3",
   "version": "3.8.8"
  }
 },
 "nbformat": 4,
 "nbformat_minor": 5
}

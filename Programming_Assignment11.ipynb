{
 "cells": [
  {
   "cell_type": "markdown",
   "id": "e31b8579",
   "metadata": {},
   "source": [
    " #### 1. Write a Python program to find words which are greater than given length k?"
   ]
  },
  {
   "cell_type": "code",
   "execution_count": 1,
   "id": "3b95399c",
   "metadata": {},
   "outputs": [
    {
     "name": "stdout",
     "output_type": "stream",
     "text": [
      "Hello\n",
      "Python\n",
      "Ashu\n",
      "Assign\n"
     ]
    }
   ],
   "source": [
    "def words(list_of_words,k):\n",
    "    for i in list_of_words:\n",
    "        if len(i) > k:\n",
    "            print(i)\n",
    "            \n",
    "words([\"HI\",\"Hello\",\"Python\",\"Ashu\",\"No\",\"Yes\",\"Assign\"],3)"
   ]
  },
  {
   "cell_type": "markdown",
   "id": "9de4b3b5",
   "metadata": {},
   "source": [
    "#### 2. Write a Python program for removing i-th character from a string?"
   ]
  },
  {
   "cell_type": "code",
   "execution_count": 8,
   "id": "748a5cc3",
   "metadata": {},
   "outputs": [
    {
     "data": {
      "text/plain": [
       "'Asu'"
      ]
     },
     "execution_count": 8,
     "metadata": {},
     "output_type": "execute_result"
    }
   ],
   "source": [
    "def removeithchar(string,i):\n",
    "    return string.replace(string[i],\"\")    \n",
    "\n",
    "removeithchar(\"Ashu\",2)"
   ]
  },
  {
   "cell_type": "markdown",
   "id": "7d9ab7c2",
   "metadata": {},
   "source": [
    "#### 3. Write a Python program to split and join a string?"
   ]
  },
  {
   "cell_type": "code",
   "execution_count": 17,
   "id": "d88ff4b3",
   "metadata": {},
   "outputs": [
    {
     "name": "stdout",
     "output_type": "stream",
     "text": [
      "['AShu', 'Kumar']\n",
      "Ashu-Kumar\n"
     ]
    }
   ],
   "source": [
    "def split(string):\n",
    "    return string.split(\" \")\n",
    "def join(string):\n",
    "    string = '-'.join(string)\n",
    "    return string\n",
    "\n",
    "print(split(\"AShu Kumar\"))\n",
    "print(join([\"Ashu\",\"Kumar\"]))"
   ]
  },
  {
   "cell_type": "markdown",
   "id": "eb5abf84",
   "metadata": {},
   "source": [
    "#### 4. Write a Python to check if a given string is binary string or not?"
   ]
  },
  {
   "cell_type": "code",
   "execution_count": 23,
   "id": "b9b505f4",
   "metadata": {},
   "outputs": [
    {
     "data": {
      "text/plain": [
       "True"
      ]
     },
     "execution_count": 23,
     "metadata": {},
     "output_type": "execute_result"
    }
   ],
   "source": [
    "def isBinary(string):\n",
    "    for i in string:\n",
    "        if i not in ['0','1']:\n",
    "            return False\n",
    "            break\n",
    "    return True\n",
    "\n",
    "isBinary('010010101')"
   ]
  },
  {
   "cell_type": "markdown",
   "id": "35a0bee9",
   "metadata": {},
   "source": [
    "#### 5. Write a Python program to find uncommon words from two Strings?"
   ]
  },
  {
   "cell_type": "code",
   "execution_count": 30,
   "id": "f8a3610e",
   "metadata": {},
   "outputs": [
    {
     "data": {
      "text/plain": [
       "['a', 'very', 'good', 'morning', 'not', 'bad']"
      ]
     },
     "execution_count": 30,
     "metadata": {},
     "output_type": "execute_result"
    }
   ],
   "source": [
    "def uncommon_words(str1,str2):\n",
    "    uncommon = []\n",
    "    for i in str1.split(\" \"):\n",
    "        if i not in str2.split(\" \"):\n",
    "            uncommon.append(i)\n",
    "    for i in str2.split(\" \"):\n",
    "        if i not in str1.split(\" \"):\n",
    "            uncommon.append(i)\n",
    "    return uncommon  \n",
    "\n",
    "uncommon_words(\"This is a very good morning\",\"This is not bad\")"
   ]
  },
  {
   "cell_type": "markdown",
   "id": "a17e780e",
   "metadata": {},
   "source": [
    "#### 6. Write a Python to find all duplicate characters in string?"
   ]
  },
  {
   "cell_type": "code",
   "execution_count": 41,
   "id": "fa9d1d00",
   "metadata": {},
   "outputs": [
    {
     "data": {
      "text/plain": [
       "{'a', 'd', 'e', 'f', 's'}"
      ]
     },
     "execution_count": 41,
     "metadata": {},
     "output_type": "execute_result"
    }
   ],
   "source": [
    "def findDuplicate(str1):\n",
    "    count = 0\n",
    "    dup = []\n",
    "    for i in str1:\n",
    "        for j in range(len(str1)):\n",
    "            if i in str1[j]:\n",
    "                count += 1\n",
    "                if count == 2:\n",
    "                    dup.append(i)\n",
    "                    break\n",
    "        count = 0\n",
    "    return set(dup)\n",
    "findDuplicate(\"abcaasssddddeeeedsadfsfzx\")"
   ]
  },
  {
   "cell_type": "markdown",
   "id": "95b75e85",
   "metadata": {},
   "source": [
    "#### 7. Write a Python Program to check if a string contains any special character?"
   ]
  },
  {
   "cell_type": "code",
   "execution_count": 53,
   "id": "de2c5ad9",
   "metadata": {},
   "outputs": [
    {
     "data": {
      "text/plain": [
       "True"
      ]
     },
     "execution_count": 53,
     "metadata": {},
     "output_type": "execute_result"
    }
   ],
   "source": [
    "def checkSpecial(str1):\n",
    "    symbols = \"\"\"`~!@#$%^&*()_-+={[}}|\\:;\"'<,>.?/\"\"\"\n",
    "    for i in str1:\n",
    "        if i in symbols:\n",
    "            return True\n",
    "    return False\n",
    "\n",
    "checkSpecial(\"djf@\")"
   ]
  },
  {
   "cell_type": "code",
   "execution_count": null,
   "id": "0c6b5cca",
   "metadata": {},
   "outputs": [],
   "source": []
  }
 ],
 "metadata": {
  "kernelspec": {
   "display_name": "Python 3",
   "language": "python",
   "name": "python3"
  },
  "language_info": {
   "codemirror_mode": {
    "name": "ipython",
    "version": 3
   },
   "file_extension": ".py",
   "mimetype": "text/x-python",
   "name": "python",
   "nbconvert_exporter": "python",
   "pygments_lexer": "ipython3",
   "version": "3.8.8"
  }
 },
 "nbformat": 4,
 "nbformat_minor": 5
}

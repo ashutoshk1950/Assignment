{
 "cells": [
  {
   "cell_type": "markdown",
   "id": "1eea3735",
   "metadata": {},
   "source": [
    "#### 1. Write a Python Program to find sum of array?"
   ]
  },
  {
   "cell_type": "code",
   "execution_count": 1,
   "id": "427ede41",
   "metadata": {},
   "outputs": [
    {
     "data": {
      "text/plain": [
       "15"
      ]
     },
     "execution_count": 1,
     "metadata": {},
     "output_type": "execute_result"
    }
   ],
   "source": [
    "def sum_of_array(array):\n",
    "    sum = 0\n",
    "    for i in array:\n",
    "        sum = sum + i\n",
    "    return sum\n",
    "\n",
    "sum_of_array([1,2,3,4,5])"
   ]
  },
  {
   "cell_type": "markdown",
   "id": "f8b1a522",
   "metadata": {},
   "source": [
    "#### 2. Write a Python Program to find largest element in an array?"
   ]
  },
  {
   "cell_type": "code",
   "execution_count": 28,
   "id": "577fbaf9",
   "metadata": {},
   "outputs": [
    {
     "data": {
      "text/plain": [
       "124"
      ]
     },
     "execution_count": 28,
     "metadata": {},
     "output_type": "execute_result"
    }
   ],
   "source": [
    "def largest_ele(array):\n",
    "    largest = 0\n",
    "    for i in array:\n",
    "        if i >= largest:\n",
    "            largest = i\n",
    "    return largest\n",
    "\n",
    "largest_ele([1,2,67,0,2,123,0,124,124,6,7,1])"
   ]
  },
  {
   "cell_type": "markdown",
   "id": "2a34b481",
   "metadata": {},
   "source": [
    "#### 3. Write a Python Program for array rotation?"
   ]
  },
  {
   "cell_type": "code",
   "execution_count": 33,
   "id": "3af1d8d1",
   "metadata": {},
   "outputs": [
    {
     "data": {
      "text/plain": [
       "[4, 5, 6, 7, 1, 2, 3]"
      ]
     },
     "execution_count": 33,
     "metadata": {},
     "output_type": "execute_result"
    }
   ],
   "source": [
    "def rotatearray(array,rotateno):\n",
    "    temp =[]\n",
    "    i = 0\n",
    "    while i < rotateno:\n",
    "        temp.extend([array[i]])\n",
    "        i = i+1\n",
    "    i = 0\n",
    "    while rotateno < len(array):\n",
    "        array[i] = array[rotateno]\n",
    "        i = i + 1\n",
    "        rotateno = rotateno + 1\n",
    "    \n",
    "    array[:] = array[: i] + temp\n",
    "    return array\n",
    "\n",
    "rotatearray([1,2,3,4,5,6,7],3)"
   ]
  },
  {
   "cell_type": "markdown",
   "id": "a5eb8f22",
   "metadata": {},
   "source": [
    "#### 4. Write a Python Program to Split the array and add the first part to the end?"
   ]
  },
  {
   "cell_type": "code",
   "execution_count": 37,
   "id": "61551967",
   "metadata": {},
   "outputs": [
    {
     "data": {
      "text/plain": [
       "[6, 7, 8, 9, 10, 1, 2, 3, 4, 5]"
      ]
     },
     "execution_count": 37,
     "metadata": {},
     "output_type": "execute_result"
    }
   ],
   "source": [
    "def split_add_array(array):\n",
    "    temp =[]\n",
    "    i = 0\n",
    "    num = len(array)//2\n",
    "    while i < num:\n",
    "        temp.extend([array[i]])\n",
    "        i = i+1\n",
    "    i = 0\n",
    "    while num < len(array):\n",
    "        array[i] = array[num]\n",
    "        i = i + 1\n",
    "        num = num + 1\n",
    "    \n",
    "    array[:] = array[: i] + temp\n",
    "    return array\n",
    "\n",
    "split_add_array([1,2,3,4,5,6,7,8,9,10])"
   ]
  },
  {
   "cell_type": "markdown",
   "id": "a2a2054a",
   "metadata": {},
   "source": [
    "#### 5. Write a Python Program to check if given array is Monotonic?"
   ]
  },
  {
   "cell_type": "code",
   "execution_count": 78,
   "id": "fb2f3798",
   "metadata": {},
   "outputs": [
    {
     "data": {
      "text/plain": [
       "True"
      ]
     },
     "execution_count": 78,
     "metadata": {},
     "output_type": "execute_result"
    }
   ],
   "source": [
    "def isMonotonic(array):\n",
    "    return (all(array[i] <= array[i + 1] for i in range(len(array) - 1)) or\n",
    "            all(array[i] >= array[i + 1] for i in range(len(array) - 1)))\n",
    "            \n",
    "isMonotonic([1,2,3,4,5,5])"
   ]
  },
  {
   "cell_type": "code",
   "execution_count": null,
   "id": "a718d6ba",
   "metadata": {},
   "outputs": [],
   "source": []
  }
 ],
 "metadata": {
  "kernelspec": {
   "display_name": "Python 3",
   "language": "python",
   "name": "python3"
  },
  "language_info": {
   "codemirror_mode": {
    "name": "ipython",
    "version": 3
   },
   "file_extension": ".py",
   "mimetype": "text/x-python",
   "name": "python",
   "nbconvert_exporter": "python",
   "pygments_lexer": "ipython3",
   "version": "3.8.8"
  }
 },
 "nbformat": 4,
 "nbformat_minor": 5
}

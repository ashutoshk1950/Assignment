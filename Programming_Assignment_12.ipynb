{
 "cells": [
  {
   "cell_type": "markdown",
   "id": "e616958b",
   "metadata": {},
   "source": [
    "#### 1. Write a Python program to Extract Unique values dictionary values?"
   ]
  },
  {
   "cell_type": "code",
   "execution_count": 6,
   "id": "752d6d9f",
   "metadata": {},
   "outputs": [
    {
     "data": {
      "text/plain": [
       "[1, 3]"
      ]
     },
     "execution_count": 6,
     "metadata": {},
     "output_type": "execute_result"
    }
   ],
   "source": [
    "def uniqueValues(dict1):\n",
    "    list1 = []\n",
    "    for i in dict1.values():\n",
    "        list1.append(i)\n",
    "        \n",
    "    return list(set(list1))\n",
    "\n",
    "uniqueValues({\"1\":1,\"2\":1,\"3\":3,\"4\":3})"
   ]
  },
  {
   "cell_type": "markdown",
   "id": "32c2588b",
   "metadata": {},
   "source": [
    "#### 2. Write a Python program to find the sum of all items in a dictionary?\n"
   ]
  },
  {
   "cell_type": "code",
   "execution_count": 7,
   "id": "695c996a",
   "metadata": {},
   "outputs": [
    {
     "data": {
      "text/plain": [
       "8"
      ]
     },
     "execution_count": 7,
     "metadata": {},
     "output_type": "execute_result"
    }
   ],
   "source": [
    "def sumofitems(dict1):\n",
    "    sum = 0\n",
    "    for i in dict1.values():\n",
    "        sum += i\n",
    "        \n",
    "    return sum\n",
    "\n",
    "sumofitems({\"1\":1,\"2\":1,\"3\":3,\"4\":3})"
   ]
  },
  {
   "cell_type": "markdown",
   "id": "abc00795",
   "metadata": {},
   "source": [
    "#### 3. Write a Python program to Merging two Dictionaries?"
   ]
  },
  {
   "cell_type": "code",
   "execution_count": 11,
   "id": "6f6eeee6",
   "metadata": {},
   "outputs": [
    {
     "data": {
      "text/plain": [
       "{'1': 1, '2': 5, '3': 3, '4': 3, '5': 1, '6': 3}"
      ]
     },
     "execution_count": 11,
     "metadata": {},
     "output_type": "execute_result"
    }
   ],
   "source": [
    "def Mergedict(dict1,dict2):\n",
    "    return{**dict1,**dict2}\n",
    "\n",
    "Mergedict({\"1\":1,\"2\":1,\"3\":3,\"4\":3},{\"5\":1,\"2\":5,\"6\":3,\"4\":3})"
   ]
  },
  {
   "cell_type": "markdown",
   "id": "03bc00e9",
   "metadata": {},
   "source": [
    "#### 4. Write a Python program to convert key-values list to flat dictionary?"
   ]
  },
  {
   "cell_type": "code",
   "execution_count": 16,
   "id": "0c50f5ab",
   "metadata": {},
   "outputs": [
    {
     "data": {
      "text/plain": [
       "{1: 'Mon', 2: 'Tue', 3: 'wed', 4: 'Thu', 5: 'Fri'}"
      ]
     },
     "execution_count": 16,
     "metadata": {},
     "output_type": "execute_result"
    }
   ],
   "source": [
    "def flat_dict():\n",
    "    dict1 = {'days':[1,2,3,4,5,6],'day_name':['Mon','Tue','wed','Thu','Fri']}\n",
    "    return dict(zip(dict1['days'],dict1['day_name']))\n",
    "\n",
    "flat_dict()"
   ]
  },
  {
   "cell_type": "markdown",
   "id": "b852cce0",
   "metadata": {},
   "source": [
    "#### 5. Write a Python program to insertion at the beginning in OrderedDict?"
   ]
  },
  {
   "cell_type": "code",
   "execution_count": 18,
   "id": "5360eba3",
   "metadata": {},
   "outputs": [
    {
     "name": "stdout",
     "output_type": "stream",
     "text": [
      "OrderedDict([('A', '100'), ('B', '200'), ('C', '300'), ('D', '400')])\n",
      "Resultant Dictionary :\n",
      "OrderedDict([('D', '400'), ('A', '100'), ('B', '200'), ('C', '300')])\n"
     ]
    }
   ],
   "source": [
    "from collections import OrderedDict  \n",
    "dic1 = OrderedDict([('A', '100'), ('B', '200'), ('C', '300')])\n",
    "\n",
    "dic1.update({\"D\": '400'})\n",
    "print(dic1)\n",
    "\n",
    "dic1.move_to_end(\"D\", last=False)\n",
    "  \n",
    "\n",
    "print (\"Resultant Dictionary :\")\n",
    "print(dic1)"
   ]
  },
  {
   "cell_type": "markdown",
   "id": "e8a0d92d",
   "metadata": {},
   "source": [
    "#### 6. Write a Python program to check order of character in string using OrderedDict()?"
   ]
  },
  {
   "cell_type": "code",
   "execution_count": 26,
   "id": "a75d5e31",
   "metadata": {},
   "outputs": [
    {
     "name": "stdout",
     "output_type": "stream",
     "text": [
      "Correct pattern\n"
     ]
    }
   ],
   "source": [
    "def check_order(input1, pattern1):\n",
    "    dict1 = OrderedDict.fromkeys(input1)\n",
    "    pattern_length = 0\n",
    "    for key,value in dict1.items():\n",
    "        if (key == pattern1[pattern_length]):\n",
    "            pattern_length = pattern_length + 1\n",
    "\n",
    "        if(pattern_length == (len(pattern1))):\n",
    "            return \"Correct pattern\"\n",
    "\n",
    "    return \"Incorrect pattern\"\n",
    "\n",
    "print(check_order('Hi Ashu','As'))"
   ]
  },
  {
   "cell_type": "markdown",
   "id": "507c615a",
   "metadata": {},
   "source": [
    "##### 7. Write a Python program to sort Python Dictionaries by Key or Value?"
   ]
  },
  {
   "cell_type": "code",
   "execution_count": 36,
   "id": "8228019e",
   "metadata": {},
   "outputs": [
    {
     "data": {
      "text/plain": [
       "[('1', 1), ('2', 1), ('5', 3), ('8', 3)]"
      ]
     },
     "execution_count": 36,
     "metadata": {},
     "output_type": "execute_result"
    }
   ],
   "source": [
    "def sortdict(dict1):\n",
    "     return sorted(dict1.items())\n",
    "        \n",
    "sortdict({\"1\":1,\"2\":1,\"8\":3,\"5\":3})"
   ]
  },
  {
   "cell_type": "code",
   "execution_count": null,
   "id": "e7f86916",
   "metadata": {},
   "outputs": [],
   "source": []
  }
 ],
 "metadata": {
  "kernelspec": {
   "display_name": "Python 3",
   "language": "python",
   "name": "python3"
  },
  "language_info": {
   "codemirror_mode": {
    "name": "ipython",
    "version": 3
   },
   "file_extension": ".py",
   "mimetype": "text/x-python",
   "name": "python",
   "nbconvert_exporter": "python",
   "pygments_lexer": "ipython3",
   "version": "3.8.8"
  }
 },
 "nbformat": 4,
 "nbformat_minor": 5
}

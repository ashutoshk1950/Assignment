{
 "cells": [
  {
   "cell_type": "markdown",
   "id": "40cc7c15",
   "metadata": {},
   "source": [
    "##### Question 1:\n",
    "Please write a program using generator to print the numbers which can be divisible by 5 and\n",
    "7 between 0 and n in comma separated form while n is input by console.\n",
    "\n",
    "Example:\n",
    "If the following n is given as input to the program:\n",
    "\n",
    "100\n",
    "\n",
    "Then, the output of the program should be:\n",
    "\n",
    "0,35,70"
   ]
  },
  {
   "cell_type": "code",
   "execution_count": 1,
   "id": "4cd00554",
   "metadata": {},
   "outputs": [],
   "source": [
    "def gennum():\n",
    "    n = int(input(\"Enter the value of n \"))\n",
    "    l = []\n",
    "    s = ''\n",
    "    for i in range(n):\n",
    "        if (i % 5 == 0) and (i % 7 == 0):\n",
    "            l.append(str(i))\n",
    "            \n",
    "    yield(','.join(l))"
   ]
  },
  {
   "cell_type": "code",
   "execution_count": 2,
   "id": "c2b675ec",
   "metadata": {},
   "outputs": [
    {
     "name": "stdout",
     "output_type": "stream",
     "text": [
      "<generator object gennum at 0x0000019FB62C32E0>\n",
      "Enter the value of n 100\n",
      "0,35,70\n"
     ]
    }
   ],
   "source": [
    "print(gennum())\n",
    "for i in gennum():\n",
    "    print(i)"
   ]
  },
  {
   "cell_type": "markdown",
   "id": "68a18c22",
   "metadata": {},
   "source": [
    "##### Question 2:\n",
    "Please write a program using generator to print the even numbers between 0 and n in comma\n",
    "separated form while n is input by console.\n",
    "\n",
    "Example:\n",
    "If the following n is given as input to the program:\n",
    "    \n",
    "10\n",
    "\n",
    "Then, the output of the program should be:\n",
    "    \n",
    "0,2,4,6,8,10"
   ]
  },
  {
   "cell_type": "code",
   "execution_count": 3,
   "id": "f413607d",
   "metadata": {},
   "outputs": [],
   "source": [
    "def getnum():\n",
    "    n = int(input(\"Enter the value of n \"))\n",
    "    l = []\n",
    "    s = ''\n",
    "    for i in range(n+1):\n",
    "        if (i % 2 == 0):\n",
    "            l.append(str(i))\n",
    "            \n",
    "    yield(','.join(l))"
   ]
  },
  {
   "cell_type": "code",
   "execution_count": 4,
   "id": "2fc84334",
   "metadata": {},
   "outputs": [
    {
     "name": "stdout",
     "output_type": "stream",
     "text": [
      "<generator object getnum at 0x0000019FB62C3660>\n",
      "Enter the value of n 10\n",
      "0,2,4,6,8,10\n"
     ]
    }
   ],
   "source": [
    "print(getnum())\n",
    "for i in getnum():\n",
    "    print(i)"
   ]
  },
  {
   "cell_type": "markdown",
   "id": "2c12d538",
   "metadata": {},
   "source": [
    "##### Question 3:\n",
    "The Fibonacci Sequence is computed based on the following formula:\n",
    "    \n",
    "f(n)=0 if n=0\n",
    "\n",
    "f(n)=1 if n=1\n",
    "\n",
    "f(n)=f(n-1)+f(n-2) if n&gt;1\n",
    "\n",
    "Please write a program using list comprehension to print the Fibonacci Sequence in comma\n",
    "separated form with a given n input by console.\n",
    "\n",
    "Example:\n",
    "If the following n is given as input to the program:\n",
    "    \n",
    "7\n",
    "\n",
    "Then, the output of the program should be:\n",
    "    \n",
    "0,1,1,2,3,5,8,13"
   ]
  },
  {
   "cell_type": "code",
   "execution_count": 5,
   "id": "ed50d535",
   "metadata": {},
   "outputs": [
    {
     "name": "stdout",
     "output_type": "stream",
     "text": [
      "Enter number 7\n",
      "[0, 1, 1, 2, 3, 5, 8, 13]\n"
     ]
    }
   ],
   "source": [
    "def fib():\n",
    "    n=int(input(\"Enter number \"))\n",
    "    mylist=[0,1]  \n",
    "    [mylist.append(mylist[-2]+mylist[-1]) for n in range(n-1)]\n",
    "    print(mylist) \n",
    "    \n",
    "fib()"
   ]
  },
  {
   "cell_type": "markdown",
   "id": "f4d46678",
   "metadata": {},
   "source": [
    "##### Question 4:\n",
    "Assuming that we have some email addresses in the &quot;username@companyname.com&quot; format,\n",
    "please write program to print the user name of a given email address. Both user names and\n",
    "company names are composed of letters only.\n",
    "\n",
    "Example:\n",
    "If the following email address is given as input to the program:\n",
    "    \n",
    "john@google.com\n",
    "\n",
    "Then, the output of the program should be:\n",
    "    \n",
    "john"
   ]
  },
  {
   "cell_type": "code",
   "execution_count": 6,
   "id": "a53cb0a0",
   "metadata": {},
   "outputs": [
    {
     "data": {
      "text/plain": [
       "'john'"
      ]
     },
     "execution_count": 6,
     "metadata": {},
     "output_type": "execute_result"
    }
   ],
   "source": [
    "def username(email):\n",
    "    user = []\n",
    "    for i in email:\n",
    "        if i == '@':\n",
    "            break\n",
    "        user.append(i)\n",
    "    return ''.join(user)\n",
    "\n",
    "username(\"john@google.com\")"
   ]
  },
  {
   "cell_type": "markdown",
   "id": "5ce965b2",
   "metadata": {},
   "source": [
    "##### Question 5:\n",
    "Define a class named Shape and its subclass Square. The Square class has an init function\n",
    "which takes a length as argument. Both classes have a area function which can print the area\n",
    "of the shape where Shape&#39;s area is 0 by default."
   ]
  },
  {
   "cell_type": "code",
   "execution_count": 7,
   "id": "052f7740",
   "metadata": {},
   "outputs": [],
   "source": [
    "class Shape:\n",
    "    def area(self):\n",
    "        self.area = 0\n",
    "        return self.area\n",
    "    \n",
    "class Square(Shape):\n",
    "    def __init__(self,length):\n",
    "        super(Square,self).__init__()\n",
    "        self.length = length\n",
    "        \n",
    "    def area(self):\n",
    "        self.area = self.length ** 2\n",
    "        return self.area\n",
    "    "
   ]
  },
  {
   "cell_type": "code",
   "execution_count": 8,
   "id": "fb070ec7",
   "metadata": {},
   "outputs": [
    {
     "data": {
      "text/plain": [
       "16"
      ]
     },
     "execution_count": 8,
     "metadata": {},
     "output_type": "execute_result"
    }
   ],
   "source": [
    "a = Square(4)\n",
    "a.area()"
   ]
  },
  {
   "cell_type": "code",
   "execution_count": null,
   "id": "485013d3",
   "metadata": {},
   "outputs": [],
   "source": []
  }
 ],
 "metadata": {
  "kernelspec": {
   "display_name": "Python 3",
   "language": "python",
   "name": "python3"
  },
  "language_info": {
   "codemirror_mode": {
    "name": "ipython",
    "version": 3
   },
   "file_extension": ".py",
   "mimetype": "text/x-python",
   "name": "python",
   "nbconvert_exporter": "python",
   "pygments_lexer": "ipython3",
   "version": "3.8.8"
  }
 },
 "nbformat": 4,
 "nbformat_minor": 5
}

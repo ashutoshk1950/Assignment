{
 "cells": [
  {
   "cell_type": "markdown",
   "id": "eabbb686",
   "metadata": {},
   "source": [
    "#### 1. Write a Python program to check if the given number is a Disarium Number?"
   ]
  },
  {
   "cell_type": "code",
   "execution_count": 38,
   "id": "c97a7011",
   "metadata": {},
   "outputs": [
    {
     "data": {
      "text/plain": [
       "True"
      ]
     },
     "execution_count": 38,
     "metadata": {},
     "output_type": "execute_result"
    }
   ],
   "source": [
    "def IsDisarium(num):\n",
    "    temp = num\n",
    "    digit = 0\n",
    "    pw = len(str(num))\n",
    "    \n",
    "    while temp > 0:\n",
    "        digit += (temp%10) ** pw\n",
    "        temp = temp // 10\n",
    "        pw = pw - 1\n",
    "    \n",
    "    if digit == num:\n",
    "        return True\n",
    "    else:\n",
    "        return False\n",
    "    \n",
    "IsDisarium(89)"
   ]
  },
  {
   "cell_type": "markdown",
   "id": "2704927c",
   "metadata": {},
   "source": [
    "#### 2. Write a Python program to print all disarium numbers between 1 to 100?"
   ]
  },
  {
   "cell_type": "code",
   "execution_count": 37,
   "id": "9fdd5773",
   "metadata": {},
   "outputs": [
    {
     "name": "stdout",
     "output_type": "stream",
     "text": [
      "1\n",
      "2\n",
      "3\n",
      "4\n",
      "5\n",
      "6\n",
      "7\n",
      "8\n",
      "9\n",
      "89\n"
     ]
    }
   ],
   "source": [
    "def disarium():\n",
    "    for i in range(1,101):\n",
    "        temp = i\n",
    "        digit = 0\n",
    "        pw = len(str(i))\n",
    "    \n",
    "        while temp > 0:\n",
    "            digit += (temp%10) ** pw\n",
    "            temp = temp // 10\n",
    "            pw = pw - 1\n",
    "            \n",
    "        if digit == i:\n",
    "            print(i)\n",
    "\n",
    "disarium()"
   ]
  },
  {
   "cell_type": "markdown",
   "id": "f6ab7834",
   "metadata": {},
   "source": [
    "#### 3. Write a Python program to check if the given number is Happy Number?"
   ]
  },
  {
   "cell_type": "code",
   "execution_count": 66,
   "id": "f05d3528",
   "metadata": {},
   "outputs": [
    {
     "data": {
      "text/plain": [
       "True"
      ]
     },
     "execution_count": 66,
     "metadata": {},
     "output_type": "execute_result"
    }
   ],
   "source": [
    "def IsHappy(num):\n",
    "    temp = num\n",
    "    digit = 0\n",
    "    while num:\n",
    "        while temp > 0:\n",
    "            digit += (temp%10) ** 2\n",
    "            temp = temp // 10\n",
    "        if digit == 1:\n",
    "            return True\n",
    "            break\n",
    "        else:\n",
    "            if digit in range(2,10):\n",
    "                return False\n",
    "                break\n",
    "            temp = digit\n",
    "            digit = 0\n",
    "IsHappy(44)"
   ]
  },
  {
   "cell_type": "markdown",
   "id": "ffff3aaa",
   "metadata": {},
   "source": [
    "#### 4. Write a Python program to print all happy numbers between 1 and 100?"
   ]
  },
  {
   "cell_type": "code",
   "execution_count": 68,
   "id": "2804ca2c",
   "metadata": {},
   "outputs": [
    {
     "name": "stdout",
     "output_type": "stream",
     "text": [
      "1\n",
      "7\n",
      "10\n",
      "13\n",
      "19\n",
      "23\n",
      "28\n",
      "31\n",
      "32\n",
      "44\n",
      "49\n",
      "68\n",
      "70\n",
      "79\n",
      "82\n",
      "86\n",
      "91\n",
      "94\n",
      "97\n",
      "100\n"
     ]
    }
   ],
   "source": [
    "def Happy():\n",
    "    for i in range(1,101):\n",
    "        temp = i\n",
    "        digit = 0\n",
    "        while i:\n",
    "            while temp > 0:\n",
    "                digit += (temp%10) ** 2\n",
    "                temp = temp // 10\n",
    "            if digit == 1:\n",
    "                print(i)\n",
    "                break\n",
    "            else:\n",
    "                if digit in range(2,10):\n",
    "                    break\n",
    "                temp = digit\n",
    "                digit = 0\n",
    "                \n",
    "Happy()"
   ]
  },
  {
   "cell_type": "markdown",
   "id": "f8e853f7",
   "metadata": {},
   "source": [
    "#### 5. Write a Python program to determine whether the given number is a Harshad Number?"
   ]
  },
  {
   "cell_type": "code",
   "execution_count": 71,
   "id": "3e6e8724",
   "metadata": {},
   "outputs": [
    {
     "data": {
      "text/plain": [
       "True"
      ]
     },
     "execution_count": 71,
     "metadata": {},
     "output_type": "execute_result"
    }
   ],
   "source": [
    "def IsHarshad(num):\n",
    "    temp = num\n",
    "    digit = 0\n",
    "    \n",
    "    while temp > 0:\n",
    "        digit += temp%10\n",
    "        temp = temp // 10\n",
    "        \n",
    "    if num % digit == 0:\n",
    "        return True\n",
    "    else:\n",
    "        return False\n",
    "    \n",
    "IsHarshad(100)"
   ]
  },
  {
   "cell_type": "markdown",
   "id": "c8f68024",
   "metadata": {},
   "source": [
    "#### 6. Write a Python program to print all pronic numbers between 1 and 100?"
   ]
  },
  {
   "cell_type": "code",
   "execution_count": 79,
   "id": "31cba307",
   "metadata": {},
   "outputs": [
    {
     "name": "stdout",
     "output_type": "stream",
     "text": [
      "2\n",
      "6\n",
      "12\n",
      "20\n",
      "30\n",
      "42\n",
      "56\n",
      "72\n",
      "90\n"
     ]
    }
   ],
   "source": [
    "import mathSSSS\n",
    "def pronic():\n",
    "    for num in range(1,101):\n",
    "        i = 0\n",
    "        while i <= int(math.sqrt(num)):\n",
    "            if num == i*(i+1):\n",
    "                print(num)\n",
    "            i = i+1\n",
    "        \n",
    "pronic()\n",
    "    "
   ]
  }
 ],
 "metadata": {
  "kernelspec": {
   "display_name": "Python 3",
   "language": "python",
   "name": "python3"
  },
  "language_info": {
   "codemirror_mode": {
    "name": "ipython",
    "version": 3
   },
   "file_extension": ".py",
   "mimetype": "text/x-python",
   "name": "python",
   "nbconvert_exporter": "python",
   "pygments_lexer": "ipython3",
   "version": "3.8.8"
  }
 },
 "nbformat": 4,
 "nbformat_minor": 5
}

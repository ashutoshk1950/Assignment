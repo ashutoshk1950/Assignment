{
 "cells": [
  {
   "cell_type": "markdown",
   "id": "172f39f3",
   "metadata": {},
   "source": [
    "#### 1. Write a Python program to convert kilometers to miles?"
   ]
  },
  {
   "cell_type": "code",
   "execution_count": 2,
   "id": "d7d463d0",
   "metadata": {},
   "outputs": [
    {
     "data": {
      "text/plain": [
       "6.213699999999999"
      ]
     },
     "execution_count": 2,
     "metadata": {},
     "output_type": "execute_result"
    }
   ],
   "source": [
    "def kilo2Mile(kilometer):\n",
    "    return 0.62137* kilometer\n",
    "\n",
    "kilo2Mile(10)"
   ]
  },
  {
   "cell_type": "markdown",
   "id": "882c69c1",
   "metadata": {},
   "source": [
    "#### 2. Write a Python program to convert Celsius to Fahrenheit?"
   ]
  },
  {
   "cell_type": "code",
   "execution_count": 4,
   "id": "a4c1d5d1",
   "metadata": {},
   "outputs": [
    {
     "data": {
      "text/plain": [
       "98.60000000000001"
      ]
     },
     "execution_count": 4,
     "metadata": {},
     "output_type": "execute_result"
    }
   ],
   "source": [
    "def c2f(celsius):\n",
    "    return 1.8*celsius+32\n",
    "\n",
    "c2f(37)"
   ]
  },
  {
   "cell_type": "markdown",
   "id": "cf73067c",
   "metadata": {},
   "source": [
    "#### 3. Write a Python program to display calendar?"
   ]
  },
  {
   "cell_type": "code",
   "execution_count": 5,
   "id": "71ce9e7b",
   "metadata": {},
   "outputs": [
    {
     "data": {
      "text/plain": [
       "'   February 2022\\nMo Tu We Th Fr Sa Su\\n    1  2  3  4  5  6\\n 7  8  9 10 11 12 13\\n14 15 16 17 18 19 20\\n21 22 23 24 25 26 27\\n28\\n'"
      ]
     },
     "execution_count": 5,
     "metadata": {},
     "output_type": "execute_result"
    }
   ],
   "source": [
    "import calendar\n",
    "\n",
    "def show_calender(month,year):\n",
    "    return calendar.month(year, month)\n",
    "\n",
    "show_calender(2,2022)"
   ]
  },
  {
   "cell_type": "markdown",
   "id": "03664be5",
   "metadata": {},
   "source": [
    "#### 4. Write a Python program to solve quadratic equation?"
   ]
  },
  {
   "cell_type": "code",
   "execution_count": 13,
   "id": "78155ca9",
   "metadata": {},
   "outputs": [
    {
     "data": {
      "text/plain": [
       "(-3.414213562373095, -0.5857864376269049)"
      ]
     },
     "execution_count": 13,
     "metadata": {},
     "output_type": "execute_result"
    }
   ],
   "source": [
    "import math as m\n",
    "\n",
    "def qudaratic_equation(a,b,c):\n",
    "    d = (b**2)-(4 * a * c)\n",
    "    return (-b - m.sqrt(d))/(2*a),(-b + m.sqrt(d))/(2*a)\n",
    "    \n",
    "qudaratic_equation(1,4,2)"
   ]
  },
  {
   "cell_type": "markdown",
   "id": "d4fce62d",
   "metadata": {},
   "source": [
    "#### 5. Write a Python program to swap two variables without temp variable?"
   ]
  },
  {
   "cell_type": "code",
   "execution_count": 15,
   "id": "e2cad285",
   "metadata": {},
   "outputs": [
    {
     "data": {
      "text/plain": [
       "(20, 10)"
      ]
     },
     "execution_count": 15,
     "metadata": {},
     "output_type": "execute_result"
    }
   ],
   "source": [
    "def swap_variables(a,b):\n",
    "    a,b = b,a\n",
    "    return a,b\n",
    "\n",
    "swap_variables(10,20)"
   ]
  },
  {
   "cell_type": "code",
   "execution_count": null,
   "id": "b268504f",
   "metadata": {},
   "outputs": [],
   "source": []
  }
 ],
 "metadata": {
  "kernelspec": {
   "display_name": "Python 3",
   "language": "python",
   "name": "python3"
  },
  "language_info": {
   "codemirror_mode": {
    "name": "ipython",
    "version": 3
   },
   "file_extension": ".py",
   "mimetype": "text/x-python",
   "name": "python",
   "nbconvert_exporter": "python",
   "pygments_lexer": "ipython3",
   "version": "3.8.8"
  }
 },
 "nbformat": 4,
 "nbformat_minor": 5
}

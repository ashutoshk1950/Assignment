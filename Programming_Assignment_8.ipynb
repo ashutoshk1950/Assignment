{
 "cells": [
  {
   "cell_type": "markdown",
   "id": "9f6ecdf4",
   "metadata": {},
   "source": [
    "#### 1. Write a Python Program to Add Two Matrices?"
   ]
  },
  {
   "cell_type": "code",
   "execution_count": 5,
   "id": "baac082a",
   "metadata": {},
   "outputs": [
    {
     "name": "stdout",
     "output_type": "stream",
     "text": [
      "[2, 4, 6]\n",
      "[8, 10, 12]\n",
      "[14, 16, 18]\n"
     ]
    }
   ],
   "source": [
    "def addMatrix(matrix1,matrix2):\n",
    "    result = x\n",
    "    \n",
    "    for i in range(len(result)):\n",
    "        for j in range(len(result[0])):\n",
    "            result[i][j] = matrix1[i][j] + matrix2[i][j]\n",
    "            \n",
    "    for i in result:\n",
    "        print(i)\n",
    "        \n",
    "addMatrix([[1,2,3],[4,5,6],[7,8,9]],[[1,2,3],[4,5,6],[7,8,9]])"
   ]
  },
  {
   "cell_type": "markdown",
   "id": "26a2db36",
   "metadata": {},
   "source": [
    "#### 2. Write a Python Program to Multiply Two Matrices?"
   ]
  },
  {
   "cell_type": "code",
   "execution_count": 8,
   "id": "46fd4a77",
   "metadata": {},
   "outputs": [
    {
     "name": "stdout",
     "output_type": "stream",
     "text": [
      "[14, 18]\n",
      "[132, 168]\n"
     ]
    }
   ],
   "source": [
    "def mulMatrix(matrix1,matrix2):\n",
    "    result = matrix2\n",
    "    \n",
    "    for i in range(len(matrix1)):\n",
    "        for j in range(len(matrix2[0])):\n",
    "            for k in range(len(matrix2)):\n",
    "                result[i][j] += matrix1[i][k] * matrix2[k][j]\n",
    " \n",
    "    for r in result:\n",
    "        print(r)\n",
    "        \n",
    "mulMatrix([[1,2],[2,3]],[[2,3],[5,6]])"
   ]
  },
  {
   "cell_type": "markdown",
   "id": "3e5cd251",
   "metadata": {},
   "source": [
    "#### 3. Write a Python Program to Transpose a Matrix?"
   ]
  },
  {
   "cell_type": "code",
   "execution_count": 13,
   "id": "e9799c07",
   "metadata": {},
   "outputs": [
    {
     "name": "stdout",
     "output_type": "stream",
     "text": [
      "[12, 4, 3]\n",
      "[7, 5, 8]\n"
     ]
    }
   ],
   "source": [
    "def transpose(matrix):\n",
    "\n",
    "    result = [[matrix[j][i] for j in range(len(matrix))] for i in range(len(matrix[0]))]\n",
    "\n",
    "    for r in result:\n",
    "        print(r)\n",
    "        \n",
    "transpose([[12,7],[4 ,5],[3 ,8]])"
   ]
  },
  {
   "cell_type": "markdown",
   "id": "1f62b97e",
   "metadata": {},
   "source": [
    "#### 4. Write a Python Program to Sort Words in Alphabetic Order?"
   ]
  },
  {
   "cell_type": "code",
   "execution_count": 16,
   "id": "8a2b667b",
   "metadata": {},
   "outputs": [
    {
     "name": "stdout",
     "output_type": "stream",
     "text": [
      "ashu\n",
      "hello\n",
      "hi\n",
      "python\n",
      "sort\n"
     ]
    }
   ],
   "source": [
    "def sort_words(List_of_words):\n",
    "    words = [i.lower() for i in List_of_words]\n",
    "    words.sort()\n",
    "    \n",
    "    for i in words:\n",
    "        print(i)\n",
    "\n",
    "sort_words(['Hello','HI','Ashu','sort','Python'])"
   ]
  },
  {
   "cell_type": "markdown",
   "id": "4a398007",
   "metadata": {},
   "source": [
    "#### 5. Write a Python Program to Remove Punctuation From a String?"
   ]
  },
  {
   "cell_type": "code",
   "execution_count": 19,
   "id": "4e4dd493",
   "metadata": {},
   "outputs": [
    {
     "data": {
      "text/plain": [
       "'Hello Ashu This is Punctuation program'"
      ]
     },
     "execution_count": 19,
     "metadata": {},
     "output_type": "execute_result"
    }
   ],
   "source": [
    "def punctuation(string):\n",
    "    punc = '''!()-[]{};:'\"\\,<>./?@#$%^&*_~'''\n",
    "    \n",
    "    for i in string:\n",
    "        if i in punc:\n",
    "            string = string.replace(i,\"\")\n",
    "            \n",
    "    return string\n",
    "\n",
    "punctuation(\"Hello???@@##$ Ashu#$%%$^ This ~~@#$is Punctuation$%^ program\")"
   ]
  },
  {
   "cell_type": "code",
   "execution_count": null,
   "id": "a1e9d877",
   "metadata": {},
   "outputs": [],
   "source": []
  }
 ],
 "metadata": {
  "kernelspec": {
   "display_name": "Python 3",
   "language": "python",
   "name": "python3"
  },
  "language_info": {
   "codemirror_mode": {
    "name": "ipython",
    "version": 3
   },
   "file_extension": ".py",
   "mimetype": "text/x-python",
   "name": "python",
   "nbconvert_exporter": "python",
   "pygments_lexer": "ipython3",
   "version": "3.8.8"
  }
 },
 "nbformat": 4,
 "nbformat_minor": 5
}

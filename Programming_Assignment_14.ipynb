{
 "cells": [
  {
   "cell_type": "markdown",
   "id": "2313ae1b",
   "metadata": {},
   "source": [
    "#### Question 1:\n",
    "Define a class with a generator which can iterate the numbers, which are divisible by\n",
    "7, between a given range 0 and n."
   ]
  },
  {
   "cell_type": "code",
   "execution_count": 1,
   "id": "eea46eb7",
   "metadata": {},
   "outputs": [],
   "source": [
    "class number:\n",
    "    def __init__(self,n):\n",
    "        self.n = n\n",
    "        \n",
    "    def generator(self):\n",
    "        for i in range((self.n+1)):\n",
    "            if i % 7 == 0:\n",
    "                yield i\n",
    "    "
   ]
  },
  {
   "cell_type": "code",
   "execution_count": 2,
   "id": "48f14072",
   "metadata": {},
   "outputs": [
    {
     "name": "stdout",
     "output_type": "stream",
     "text": [
      "0\n",
      "7\n",
      "14\n"
     ]
    }
   ],
   "source": [
    "n = number(20)\n",
    "for i in n.generator():\n",
    "    print(i)"
   ]
  },
  {
   "cell_type": "markdown",
   "id": "84fc1d55",
   "metadata": {},
   "source": [
    "#### Question 2:\n",
    "Write a program to compute the frequency of the words from the input. The output\n",
    "should output after sorting the key alphanumerically.\n",
    "\n",
    "Suppose the following input is supplied to the program:\n",
    "\n",
    "New to Python or choosing between Python 2 and Python 3? Read Python 2 or\n",
    "Python 3.\n",
    "\n",
    "Then, the output should be:\n",
    "\n",
    "2:2\n",
    "\n",
    "3.:1\n",
    "\n",
    "3?:1\n",
    "\n",
    "New:1\n",
    "\n",
    "Python:5\n",
    "\n",
    "Read:1\n",
    "\n",
    "and:1\n",
    "\n",
    "between:1\n",
    "\n",
    "choosing:1\n",
    "\n",
    "or:2\n",
    "\n",
    "to:1"
   ]
  },
  {
   "cell_type": "code",
   "execution_count": 3,
   "id": "61a9178d",
   "metadata": {},
   "outputs": [
    {
     "data": {
      "text/plain": [
       "{'2': 2,\n",
       " '3.': 1,\n",
       " '3?': 1,\n",
       " 'New': 1,\n",
       " 'Python': 5,\n",
       " 'Read': 1,\n",
       " 'and': 1,\n",
       " 'between': 1,\n",
       " 'choosing': 1,\n",
       " 'or': 2,\n",
       " 'to': 1}"
      ]
     },
     "execution_count": 3,
     "metadata": {},
     "output_type": "execute_result"
    }
   ],
   "source": [
    "def freq(sentence):\n",
    "    sentence = sentence.split(\" \")\n",
    "    d = {}\n",
    "    for i in sentence:\n",
    "        if i not in d:\n",
    "            d[i] = 1\n",
    "        else:\n",
    "            d[i] += 1\n",
    "    return dict(sorted(d.items()))\n",
    "    \n",
    "freq(\"New to Python or choosing between Python 2 and Python 3? Read Python 2 or Python 3.\")"
   ]
  },
  {
   "cell_type": "markdown",
   "id": "9ed4d9e8",
   "metadata": {},
   "source": [
    "##### Question 3:\n",
    "\n",
    "Define a class Person and its two child classes: Male and Female. All classes have a\n",
    "method &quot;getGender&quot; which can print &quot;Male&quot; for Male class and &quot;Female&quot; for Female\n",
    "class."
   ]
  },
  {
   "cell_type": "code",
   "execution_count": 4,
   "id": "dd44b50f",
   "metadata": {},
   "outputs": [],
   "source": [
    "class Person:\n",
    "    def getGender(self):\n",
    "        pass\n",
    "    \n",
    "class Male(Person):    \n",
    "    def getGender(self):\n",
    "        return \"Male\"\n",
    "    \n",
    "class Female(Person):       \n",
    "    def getGender(self):\n",
    "        return \"Female\"\n",
    "m = Male()\n",
    "f = Female()"
   ]
  },
  {
   "cell_type": "code",
   "execution_count": 5,
   "id": "96bd05de",
   "metadata": {},
   "outputs": [
    {
     "name": "stdout",
     "output_type": "stream",
     "text": [
      "Male\n",
      "Female\n"
     ]
    }
   ],
   "source": [
    "print(m.getGender())\n",
    "print(f.getGender())"
   ]
  },
  {
   "cell_type": "markdown",
   "id": "50325edf",
   "metadata": {},
   "source": [
    "##### Question 4:\n",
    "Please write a program to generate all sentences where subject is in [&quot;I&quot;, &quot;You&quot;] and\n",
    "verb is in [&quot;Play&quot;, &quot;Love&quot;] and the object is in [&quot;Hockey&quot;,&quot;Football&quot;]."
   ]
  },
  {
   "cell_type": "code",
   "execution_count": 6,
   "id": "7c7a1d45",
   "metadata": {},
   "outputs": [
    {
     "data": {
      "text/plain": [
       "['I Play Hockey',\n",
       " 'I Play Football',\n",
       " 'I Love Hockey',\n",
       " 'I Love Football',\n",
       " 'You Play Hockey',\n",
       " 'You Play Football',\n",
       " 'You Love Hockey',\n",
       " 'You Love Football']"
      ]
     },
     "execution_count": 6,
     "metadata": {},
     "output_type": "execute_result"
    }
   ],
   "source": [
    "def gensentence():\n",
    "    subject = [\"I\", \"You\"]\n",
    "    verb = [\"Play\", \"Love\"]\n",
    "    obj = [\"Hockey\",\"Football\"]\n",
    "    \n",
    "    l = []\n",
    "    \n",
    "    for i in subject:\n",
    "        for j in verb:\n",
    "            for k in obj:\n",
    "                l.append(i+\" \"+j+\" \"+k)\n",
    "                \n",
    "    return l\n",
    "\n",
    "gensentence()"
   ]
  },
  {
   "cell_type": "markdown",
   "id": "1f827189",
   "metadata": {},
   "source": [
    "###### Question 5:\n",
    "Please write a program to compress and decompress the string &quot;hello world!hello\n",
    "world!hello world!hello world!&quot;."
   ]
  },
  {
   "cell_type": "code",
   "execution_count": 7,
   "id": "a82e1ed7",
   "metadata": {},
   "outputs": [
    {
     "name": "stdout",
     "output_type": "stream",
     "text": [
      "b'x\\x9c\\xcbH\\xcd\\xc9\\xc9W(\\xcf/\\xcaIQ\\xcc \\x82\\r\\x00\\xbd[\\x11\\xf5'\n",
      "b'hello world!hello world!hello world!hello world!'\n"
     ]
    }
   ],
   "source": [
    "import zlib\n",
    "def comdecomp(s):\n",
    "    s = s.encode()\n",
    "    t = zlib.compress(s)\n",
    "    print(t)\n",
    "    print(zlib.decompress(t))\n",
    "    \n",
    "comdecomp(\"hello world!hello world!hello world!hello world!\")"
   ]
  },
  {
   "cell_type": "markdown",
   "id": "762680c2",
   "metadata": {},
   "source": [
    "##### Question 6:\n",
    "Please write a binary search function which searches an item in a sorted list. The\n",
    "function should return the index of element to be searched in the list."
   ]
  },
  {
   "cell_type": "code",
   "execution_count": 8,
   "id": "c4bc4d08",
   "metadata": {},
   "outputs": [
    {
     "data": {
      "text/plain": [
       "2"
      ]
     },
     "execution_count": 8,
     "metadata": {},
     "output_type": "execute_result"
    }
   ],
   "source": [
    "def binary_search(ls, n):  \n",
    "    low = 0  \n",
    "    high = len(ls) - 1  \n",
    "    mid = 0  \n",
    "  \n",
    "    while low <= high:    \n",
    "        mid = (high + low) // 2    \n",
    "        if ls[mid] < n:  \n",
    "            low = mid + 1    \n",
    "        elif ls[mid] > n:  \n",
    "            high = mid - 1   \n",
    "        else:  \n",
    "            return mid  \n",
    " \n",
    "    return -1\n",
    "\n",
    "\n",
    "binary_search([1, 2, 4, 4, 8],4)"
   ]
  },
  {
   "cell_type": "code",
   "execution_count": null,
   "id": "9062205a",
   "metadata": {},
   "outputs": [],
   "source": []
  }
 ],
 "metadata": {
  "kernelspec": {
   "display_name": "Python 3",
   "language": "python",
   "name": "python3"
  },
  "language_info": {
   "codemirror_mode": {
    "name": "ipython",
    "version": 3
   },
   "file_extension": ".py",
   "mimetype": "text/x-python",
   "name": "python",
   "nbconvert_exporter": "python",
   "pygments_lexer": "ipython3",
   "version": "3.8.8"
  }
 },
 "nbformat": 4,
 "nbformat_minor": 5
}

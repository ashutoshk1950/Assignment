{
 "cells": [
  {
   "cell_type": "markdown",
   "id": "d9510d23",
   "metadata": {},
   "source": [
    "#### 1. Write a Python Program to Find LCM?"
   ]
  },
  {
   "cell_type": "code",
   "execution_count": 2,
   "id": "0215d511",
   "metadata": {},
   "outputs": [
    {
     "data": {
      "text/plain": [
       "4"
      ]
     },
     "execution_count": 2,
     "metadata": {},
     "output_type": "execute_result"
    }
   ],
   "source": [
    "def calculate_lcm(x,y):\n",
    "    if x > y :\n",
    "        greater = x\n",
    "    else:\n",
    "        greater = y\n",
    "        \n",
    "    while True:\n",
    "        if (greater % x == 0) and (greater % y == 0):\n",
    "            lcm = greater\n",
    "            break\n",
    "        else:\n",
    "            greater += 1\n",
    "    return lcm\n",
    "\n",
    "calculate_lcm(2,4)"
   ]
  },
  {
   "cell_type": "markdown",
   "id": "75accd7d",
   "metadata": {},
   "source": [
    "#### 2. Write a Python Program to Find HCF?"
   ]
  },
  {
   "cell_type": "code",
   "execution_count": 4,
   "id": "9c888f5f",
   "metadata": {},
   "outputs": [
    {
     "data": {
      "text/plain": [
       "16.0"
      ]
     },
     "execution_count": 4,
     "metadata": {},
     "output_type": "execute_result"
    }
   ],
   "source": [
    "def calculate_hcf(x,y):\n",
    "    if x > y :\n",
    "        greater = x\n",
    "    else:\n",
    "        greater = y\n",
    "        \n",
    "    while True:\n",
    "        if (greater % x == 0) and (greater % y == 0):\n",
    "            lcm = greater\n",
    "            break\n",
    "        else:\n",
    "            greater += 1\n",
    "            \n",
    "    return (x*y)/lcm\n",
    "\n",
    "calculate_hcf(144,160)"
   ]
  },
  {
   "cell_type": "markdown",
   "id": "cea624a0",
   "metadata": {},
   "source": [
    "#### 3. Write a Python Program to Convert Decimal to Binary, Octal and Hexadecimal?"
   ]
  },
  {
   "cell_type": "code",
   "execution_count": 20,
   "id": "67948378",
   "metadata": {},
   "outputs": [
    {
     "name": "stdout",
     "output_type": "stream",
     "text": [
      "Binary value is = 111001000\n",
      "Octal value is = 710\n",
      "Hexadecimal value is = 1C8\n"
     ]
    }
   ],
   "source": [
    "def decimal2BOH(number):\n",
    "    temp = number\n",
    "    digit =''\n",
    "    while temp > 0:\n",
    "        digit = digit + str(temp%2)\n",
    "        temp = temp //2\n",
    "    print(\"Binary value is = {}\".format(digit[::-1]))\n",
    "    \n",
    "    temp = number\n",
    "    digit =''\n",
    "    while temp > 0:\n",
    "        digit = digit + str(temp%8)\n",
    "        temp = temp //8\n",
    "    print(\"Octal value is = {}\".format(digit[::-1]))\n",
    "    \n",
    "    temp = number\n",
    "    digit =''\n",
    "    dict1 = {\"10\":\"A\",\"11\":\"B\",\"12\":\"C\",\"13\":\"D\",\"14\":\"E\",\"15\":\"F\"}\n",
    "    while temp > 0:\n",
    "        if str(temp%16) in dict1.keys():\n",
    "            digit = digit + dict1[str(temp%16)]\n",
    "        else :\n",
    "            digit = digit + str(temp%16)\n",
    "        temp = temp //16\n",
    "    print(\"Hexadecimal value is = {}\".format(digit[::-1]))\n",
    "\n",
    "decimal2BOH(456)"
   ]
  },
  {
   "cell_type": "markdown",
   "id": "fac1143a",
   "metadata": {},
   "source": [
    "#### 4. Write a Python Program To Find ASCII value of a character?"
   ]
  },
  {
   "cell_type": "code",
   "execution_count": 31,
   "id": "12f0d8d5",
   "metadata": {},
   "outputs": [
    {
     "data": {
      "text/plain": [
       "'ASCII value of M is 77'"
      ]
     },
     "execution_count": 31,
     "metadata": {},
     "output_type": "execute_result"
    }
   ],
   "source": [
    "def char2ASCII(char):\n",
    "    return \"ASCII value of {} is {}\".format(char,ord(char))\n",
    "\n",
    "char2ASCII('M')"
   ]
  },
  {
   "cell_type": "markdown",
   "id": "faed7ed8",
   "metadata": {},
   "source": [
    "#### 5. Write a Python Program to Make a Simple Calculator with 4 basic mathematical operations?"
   ]
  },
  {
   "cell_type": "code",
   "execution_count": 36,
   "id": "3c373728",
   "metadata": {},
   "outputs": [
    {
     "name": "stdout",
     "output_type": "stream",
     "text": [
      "30\n",
      "2.0\n"
     ]
    }
   ],
   "source": [
    "class calculator:\n",
    "    def __init__(self,x,y):\n",
    "        self.x = x\n",
    "        self.y = y\n",
    "        \n",
    "    def add(self):\n",
    "        print(self.x + self.y)\n",
    "    \n",
    "    def subtract(self):\n",
    "        print(self.x - self.y)\n",
    "        \n",
    "    def mul(self):\n",
    "        print(self.x * self.y)\n",
    "        \n",
    "    def div(self):\n",
    "        print(self.x / self.y)\n",
    "\n",
    "c = calculator(20,10)\n",
    "c.add()\n",
    "c.div()"
   ]
  },
  {
   "cell_type": "code",
   "execution_count": null,
   "id": "ed50b1d0",
   "metadata": {},
   "outputs": [],
   "source": []
  }
 ],
 "metadata": {
  "kernelspec": {
   "display_name": "Python 3",
   "language": "python",
   "name": "python3"
  },
  "language_info": {
   "codemirror_mode": {
    "name": "ipython",
    "version": 3
   },
   "file_extension": ".py",
   "mimetype": "text/x-python",
   "name": "python",
   "nbconvert_exporter": "python",
   "pygments_lexer": "ipython3",
   "version": "3.8.8"
  }
 },
 "nbformat": 4,
 "nbformat_minor": 5
}
